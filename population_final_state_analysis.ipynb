{
 "cells": [
  {
   "cell_type": "code",
   "execution_count": null,
   "metadata": {},
   "outputs": [],
   "source": [
    "import re\n",
    "import os\n",
    "import numpy as np\n",
    "import pandas as pd\n",
    "import seaborn as sns\n",
    "import matplotlib.pyplot as plt"
   ]
  },
  {
   "cell_type": "markdown",
   "metadata": {},
   "source": [
    "## Data processing"
   ]
  },
  {
   "cell_type": "code",
   "execution_count": null,
   "metadata": {},
   "outputs": [],
   "source": [
    "root = \"./\"\n",
    "prog = re.compile(\"^pfs.+txt$\")\n",
    "output_list = [f for f in os.listdir(root) if prog.match(f)]\n",
    "\n",
    "for fname in output_list:\n",
    "    df     = pd.read_table(fname, header=None, sep='\\t').replace(-1, np.nan)\n",
    "    df.columns = [\"resM\", \"bK\", \"cr\", \"status\", \"rd\", \"pSize\", \"cProp\", \"cDeg\", \"lastna\", \"IC\"]\n",
    "\n",
    "    rd     = df.rd.max()+1\n",
    "    lv     = int(df.resM.max())\n",
    "    df_new = pd.DataFrame(np.zeros([lv, 11]), columns = [\"resM\", \"bK\", \"cr\", \"status\", \"pSizeM\", \"pSizeSD\", \"cPropM\", \"cPropSD\", \n",
    "                                                        \"cDegM\", \"cDegSD\", \"IC\"])\n",
    "\n",
    "    for i in range(lv):\n",
    "        tmp = df[df.resM == i+1].reset_index(drop=True)\n",
    "        df_new.loc[i, [\"resM\", \"bK\", \"cr\", \"status\", \"IC\"]] = list(tmp.loc[0, [\"resM\", \"bK\", \"cr\", \"status\", \"IC\"]])\n",
    "        df_new.loc[i, [\"pSizeM\", \"cPropM\", \"cDegM\"]]        = list(tmp.loc[:, [\"pSize\", \"cProp\", \"cDeg\"]].mean())\n",
    "        df_new.loc[i, [\"pSizeSD\", \"cPropSD\", \"cDegSD\"]]     = list(tmp.loc[:, [\"pSize\", \"cProp\", \"cDeg\"]].std())\n",
    "\n",
    "    df_new.to_csv(fname[:-4]+\".csv\", index=False)"
   ]
  },
  {
   "cell_type": "code",
   "execution_count": null,
   "metadata": {},
   "outputs": [],
   "source": [
    "def concat_all_df(f_list, out_fname):\n",
    "    for i, v in enumerate(f_list):\n",
    "        df = pd.read_csv(v)\n",
    "        if i == 0:\n",
    "            df_new = df\n",
    "        else:\n",
    "            df_new = pd.concat([df_new, df], axis = 0, ignore_index=True)\n",
    "    df_new.to_csv(out_fname, index=False)\n",
    "\n",
    "bK_arr = np.arange(1.0, 6.6, 0.25)\n",
    "f_list = [f\"pfs_social_bK{int(np.ceil(bK*10))}.csv\" for bK in np.arange(1.0, 6.6, 0.25)]\n",
    "concat_all_df(f_list, \"pfs_social.csv\")"
   ]
  },
  {
   "cell_type": "markdown",
   "metadata": {},
   "source": [
    "## Visualization"
   ]
  },
  {
   "cell_type": "code",
   "execution_count": null,
   "metadata": {},
   "outputs": [],
   "source": [
    "df = pd.read_csv(\"pfs_social.csv\")\n",
    "\n",
    "plt.figure(figsize = (4, 3))\n",
    "table = df.pivot(\"bK\", \"resM\", \"cPropM\")\n",
    "ax1 = sns.heatmap(table, square = True, cmap = \"Wistia\", cbar_kws={'label': 'Proportion of cooperators'})\n",
    "ax1.invert_yaxis()\n",
    "plt.xlabel(\"Mean resource availability\")\n",
    "plt.ylabel(\"Cooperation efficiency\")\n",
    "plt.savefig(\"figure_2.pdf\", format=\"pdf\", dpi=300)"
   ]
  },
  {
   "cell_type": "code",
   "execution_count": null,
   "metadata": {},
   "outputs": [],
   "source": [
    "def my_errorbar(df_social, df_nonsocial, mode):\n",
    "    if mode == 1:\n",
    "        plt.ylim(-0.15, 1.7)\n",
    "        plt.errorbar(df_social.resM, df_social.cPropM, yerr=df_social.cPropSD, fmt='o', color = \"#e48036\", elinewidth=2, capsize=3, markersize=4, label='Social population')\n",
    "        plt.errorbar(df_nonsocial.resM, df_nonsocial.cPropM, yerr=df_nonsocial.cPropSD, fmt='^', color = \"#6c78b8\", elinewidth=2, capsize=3, markersize=4, label='Nonsocial population')\n",
    "        plt.xlabel(\"Environmental resource availability\", labelpad=8)\n",
    "        plt.ylabel(\"Proportion of cooperators\", labelpad=8)\n",
    "        plt.legend(loc = 1, frameon = False, bbox_to_anchor=(1.05, 1))\n",
    "    elif mode == 2:\n",
    "        plt.ylim(-0.05, 1.0)\n",
    "        plt.errorbar(df_social.resM, df_social.cDegM, yerr=df_social.cDegSD, fmt='o', color = \"#e48036\", elinewidth=2, capsize=3, markersize=4, label='Social population')\n",
    "        plt.errorbar(df_nonsocial.resM, df_nonsocial.cDegM, yerr=df_nonsocial.cDegSD, fmt='^', color = \"#6c78b8\", elinewidth=2, capsize=3, markersize=4, label='Nonsocial population')\n",
    "        plt.xlabel(\"Environmental resource availability\", labelpad=8)\n",
    "        plt.ylabel(\"Average degree of cooperation\", labelpad=8)\n",
    "        plt.legend(loc = 1, frameon = False, bbox_to_anchor=(1.05, 1))\n",
    "    elif mode == 3:\n",
    "        plt.ylim(-100, 2000)\n",
    "        plt.errorbar(df_social.resM, df_social.pSizeM, yerr=df_social.pSizeSD, fmt='o', color = \"#e48036\", elinewidth=2, capsize=3, markersize=4, label='Social population')\n",
    "        plt.errorbar(df_nonsocial.resM, df_nonsocial.pSizeM, yerr=df_nonsocial.pSizeSD, fmt='^', color = \"#6c78b8\", elinewidth=2, capsize=3, markersize=4, label='Nonsocial population')\n",
    "        plt.xlabel(\"Environmental resource availability\", labelpad=8)\n",
    "        plt.ylabel(\"Population size\", labelpad=8)\n",
    "        plt.legend(loc = 1, frameon = False, bbox_to_anchor=(1.05, 1))"
   ]
  },
  {
   "cell_type": "code",
   "execution_count": null,
   "metadata": {},
   "outputs": [],
   "source": [
    "plt.rcParams['pdf.fonttype'] = 42\n",
    "plt.figure(figsize=(10, 6.67))\n",
    "plt.subplots_adjust(wspace=0.6, hspace=0.7)\n",
    "df_social    = pd.read_csv(\"pfs_social_bK10.csv\")\n",
    "df_nonsocial = pd.read_csv(\"pfs_nonsocial_bK10.csv\")\n",
    "plt.subplot(231)\n",
    "my_errorbar(df_social, df_nonsocial, 1)\n",
    "plt.subplot(234)\n",
    "my_errorbar(df_social, df_nonsocial, 2)\n",
    "df_social    = pd.read_csv(\"pfs_social_bK30.csv\")\n",
    "df_nonsocial = pd.read_csv(\"pfs_nonsocial_bK30.csv\")\n",
    "plt.subplot(232)\n",
    "plt.ylim(-0.15, 1.7)\n",
    "my_errorbar(df_social, df_nonsocial, 1)\n",
    "plt.subplot(235)\n",
    "plt.ylim(-0.05, 1.0)\n",
    "my_errorbar(df_social, df_nonsocial, 2)\n",
    "df_social    = pd.read_csv(\"pfs_social_bK50.csv\")\n",
    "df_nonsocial = pd.read_csv(\"pfs_nonsocial_bK50.csv\")\n",
    "plt.subplot(233)\n",
    "my_errorbar(df_social, df_nonsocial, 1)\n",
    "plt.subplot(236)\n",
    "my_errorbar(df_social, df_nonsocial, 2)\n",
    "plt.savefig(\"figure_3.pdf\", format=\"pdf\", dpi=300)"
   ]
  },
  {
   "cell_type": "code",
   "execution_count": null,
   "metadata": {},
   "outputs": [],
   "source": [
    "plt.rcParams['pdf.fonttype'] = 42\n",
    "plt.figure(figsize=(10, 2.8))\n",
    "plt.subplots_adjust(wspace=0.6, hspace=0.7)\n",
    "df_social    = pd.read_csv(\"pfs_social_bK10.csv\")\n",
    "df_nonsocial = pd.read_csv(\"pfs_nonsocial_bK10.csv\")\n",
    "plt.subplot(131)\n",
    "my_errorbar(df_social, df_nonsocial, 3)\n",
    "df_social    = pd.read_csv(\"pfs_social_bK30.csv\")\n",
    "df_nonsocial = pd.read_csv(\"pfs_nonsocial_bK30.csv\")\n",
    "plt.subplot(132)\n",
    "my_errorbar(df_social, df_nonsocial, 3)\n",
    "df_social    = pd.read_csv(\"pfs_social_bK50.csv\")\n",
    "df_nonsocial = pd.read_csv(\"pfs_nonsocial_bK50.csv\")\n",
    "plt.subplot(133)\n",
    "my_errorbar(df_social, df_nonsocial, 3)\n",
    "plt.savefig(\"figure_5.pdf\", format=\"pdf\", dpi=300)"
   ]
  },
  {
   "cell_type": "code",
   "execution_count": null,
   "metadata": {},
   "outputs": [],
   "source": []
  }
 ],
 "metadata": {
  "kernelspec": {
   "display_name": "Python 3",
   "language": "python",
   "name": "python3"
  },
  "language_info": {
   "codemirror_mode": {
    "name": "ipython",
    "version": 3
   },
   "file_extension": ".py",
   "mimetype": "text/x-python",
   "name": "python",
   "nbconvert_exporter": "python",
   "pygments_lexer": "ipython3",
   "version": "3.6.13"
  }
 },
 "nbformat": 4,
 "nbformat_minor": 4
}
